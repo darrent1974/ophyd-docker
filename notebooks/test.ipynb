{
 "cells": [
  {
   "cell_type": "code",
   "execution_count": 2,
   "id": "cd2b2a9e",
   "metadata": {},
   "outputs": [],
   "source": [
    "import datetime\n",
    "import logging\n",
    "import os\n",
    "import shutil\n",
    "import time\n",
    "from unittest.mock import Mock\n",
    "import sys\n",
    "\n",
    "import numpy as np\n",
    "from io import StringIO\n",
    "from pathlib import PurePath, Path\n",
    "\n",
    "from ophyd import (set_cl, EpicsMotor, Signal, EpicsSignal, EpicsSignalRO,\n",
    "                   Component as Cpt)\n",
    "from ophyd.utils.epics_pvs import (AlarmSeverity, AlarmStatus)                   \n",
    "\n",
    "from ophyd.utils.paths import make_dir_tree\n",
    "from ophyd import (SimDetector, SingleTrigger, Component, Device,\n",
    "                   DynamicDeviceComponent, Kind, wait)\n",
    "from ophyd.areadetector.plugins import (ImagePlugin, StatsPlugin,\n",
    "                                        ColorConvPlugin, ProcessPlugin,\n",
    "                                        OverlayPlugin, ROIPlugin,\n",
    "                                        TransformPlugin, NetCDFPlugin,\n",
    "                                        TIFFPlugin, JPEGPlugin, HDF5Plugin,\n",
    "                                        # FilePlugin\n",
    "                                        )\n",
    "from ophyd.areadetector.base import NDDerivedSignal\n",
    "from ophyd.areadetector.filestore_mixins import (\n",
    "    FileStoreTIFF, FileStoreIterativeWrite,\n",
    "    FileStoreHDF5)\n",
    "\n",
    "# we do not have nexus installed on our test IOC\n",
    "# from ophyd.areadetector.plugins import NexusPlugin\n",
    "from ophyd.areadetector.plugins import PluginBase\n",
    "from ophyd.areadetector.util import stub_templates\n",
    "#from ophyd.device import (Component as Cpt, )\n",
    "from ophyd.signal import Signal\n",
    "import uuid\n",
    "\n",
    "from epics import caget, caput, cainfo"
   ]
  },
  {
   "cell_type": "code",
   "execution_count": 3,
   "id": "bb649a0d-2213-4c0b-ae16-e188566b66aa",
   "metadata": {},
   "outputs": [],
   "source": [
    "def get_ad_prefix():\n",
    "    # prefixes = ['13SIM1:', 'XF:31IDA-BI{Cam:Tbl}']\n",
    "    prefix = 'ADSIM:'\n",
    "    test_pv = prefix + 'TIFF1:PluginType_RBV'\n",
    "    try:\n",
    "        sig = EpicsSignalRO(test_pv)\n",
    "        sig.wait_for_connection(timeout=2)\n",
    "    except TimeoutError:\n",
    "        raise TimeoutError('No areaDetector IOC running')\n",
    "    else:\n",
    "        print('areaDetector detected with prefix:', prefix)\n",
    "        return prefix\n",
    "    finally:\n",
    "        sig.destroy()"
   ]
  },
  {
   "cell_type": "code",
   "execution_count": 4,
   "id": "c19cea79-e45e-4b80-99ac-b553273283d1",
   "metadata": {},
   "outputs": [
    {
     "name": "stdout",
     "output_type": "stream",
     "text": [
      "None\n",
      "None\n"
     ]
    }
   ],
   "source": [
    "print(os.getenv('EPICS_CA_ADDR_LIST'))\n",
    "print(os.getenv('EPICS_CA_AUTO_ADDR_LIST'))"
   ]
  },
  {
   "cell_type": "code",
   "execution_count": 5,
   "id": "a3f80a19-38dd-4ea6-b15e-70f8cc7ed57e",
   "metadata": {},
   "outputs": [
    {
     "name": "stdout",
     "output_type": "stream",
     "text": [
      "areaDetector detected with prefix: ADSIM:\n",
      "EpicsSignalRO(read_pv='ADSIM:TIFF1:PluginType_RBV', name='test_tiff1_plugin_type', parent='test_tiff1', value='NDFileTIFF', timestamp=1630471544.605288, auto_monitor=False, string=False)\n"
     ]
    }
   ],
   "source": [
    "try:\n",
    "    ad_prefix = get_ad_prefix()\n",
    "\n",
    "    class MyDetector(SingleTrigger, SimDetector):\n",
    "        tiff1 = Cpt(TIFFPlugin, 'TIFF1:')\n",
    "\n",
    "    det = MyDetector(ad_prefix, name='test')\n",
    "    print(det.tiff1.plugin_type)\n",
    "\n",
    "    det.wait_for_connection()\n",
    "\n",
    "    det.cam.acquire_time.put(0.5)\n",
    "    det.cam.acquire_period.put(0.5)\n",
    "    det.cam.num_images.put(1)\n",
    "    det.cam.image_mode.put(det.cam.ImageMode.SINGLE)\n",
    "    det.stage()\n",
    "    st = det.trigger()\n",
    "    wait(st, timeout=5)\n",
    "    det.unstage()\n",
    "\n",
    "except:\n",
    "    print(f'Exception: {sys.exc_info()}')"
   ]
  },
  {
   "cell_type": "code",
   "execution_count": null,
   "id": "fd918990-0f71-440d-bfd4-4c7ea028f969",
   "metadata": {},
   "outputs": [],
   "source": []
  }
 ],
 "metadata": {
  "kernelspec": {
   "display_name": "Python 3 (ipykernel)",
   "language": "python",
   "name": "python3"
  },
  "language_info": {
   "codemirror_mode": {
    "name": "ipython",
    "version": 3
   },
   "file_extension": ".py",
   "mimetype": "text/x-python",
   "name": "python",
   "nbconvert_exporter": "python",
   "pygments_lexer": "ipython3",
   "version": "3.9.5"
  }
 },
 "nbformat": 4,
 "nbformat_minor": 5
}
